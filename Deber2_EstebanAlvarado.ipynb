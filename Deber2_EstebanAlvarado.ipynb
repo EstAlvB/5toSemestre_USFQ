{
 "cells": [
  {
   "cell_type": "markdown",
   "source": [
    "# Homework 2"
   ],
   "metadata": {}
  },
  {
   "cell_type": "markdown",
   "source": [
    "##  1. Given the following implementation of the class `PriorityQueue`, implement the methods:\n",
    "\n",
    "- `insert(v,k)` - add an element $v$ with priority $k$. Complexity $O(n)$\n",
    "- `deleteMin()` - remove the element with the lowest $k$ (highest priority). Complexity $O(1)$\n",
    "- `decreaseKey(v,k)` - decrease the value of $k$ (increase priority). Complexity $O(n)$\n",
    "\n",
    "**Show complexity analysis for each implementation**"
   ],
   "metadata": {}
  },
  {
   "cell_type": "code",
   "execution_count": 1,
   "source": [
    "import ctypes\n",
    "class PriorityQueue(object):\n",
    "    \"\"\" Implementation of the queue data structure \"\"\"\n",
    "\n",
    "    def __init__(self):\n",
    "        self.item_count = 0\n",
    "        self.queue = []       \n",
    "    \n",
    "    def take_key (self, q):\n",
    "        return q[1]\n",
    "\n",
    "    #Complexity: O(n + 1)\n",
    "    def insert(self, v, k):\n",
    "        \"\"\" Insert an element v with priority k \"\"\"\n",
    "        self.queue.append((v, k))\n",
    "        self.item_count += 1\n",
    "        self.queue.sort(key = self.take_key)\n",
    "\n",
    "    #Complexity: O(1)\n",
    "    def deleteMin(self):\n",
    "        \"\"\" Delete the element with the lowest k (highest priority)\"\"\"\n",
    "        if (self.item_count == 0):\n",
    "            raise ValueError(\"No elements to delete\")\n",
    "        self.queue.pop(0)\n",
    "        self.item_count -= 1\n",
    "    \n",
    "    #Complexity: O(n)\n",
    "    def decreaseKey (self, v, k):\n",
    "        for i in range(0, self.item_count):\n",
    "            if (self.queue[i][0] == v):\n",
    "                if (self.queue[i][1] < k):\n",
    "                    raise ValueError(\"new value of k must be smaller\")\n",
    "                self.queue[i] = (v, k)\n",
    "    \n",
    "    def PriorityQueue_traversed(self):\n",
    "        for i in range (0, self.item_count):\n",
    "            print (self.queue[i], end = \" \")\n",
    "\n",
    "C = PriorityQueue()\n",
    "C.insert(2, 9)\n",
    "C.insert(3, 0)\n",
    "C.insert(5, 10)\n",
    "C.PriorityQueue_traversed()"
   ],
   "outputs": [
    {
     "output_type": "stream",
     "name": "stdout",
     "text": [
      "(3, 0) (2, 9) (5, 10) "
     ]
    }
   ],
   "metadata": {}
  },
  {
   "cell_type": "code",
   "execution_count": 2,
   "source": [
    "C.decreaseKey(2, 0)\n",
    "C.PriorityQueue_traversed()"
   ],
   "outputs": [
    {
     "output_type": "stream",
     "name": "stdout",
     "text": [
      "(3, 0) (2, 0) (5, 10) "
     ]
    }
   ],
   "metadata": {}
  },
  {
   "cell_type": "code",
   "execution_count": 3,
   "source": [
    "C.deleteMin()\n",
    "C.PriorityQueue_traversed()"
   ],
   "outputs": [
    {
     "output_type": "stream",
     "name": "stdout",
     "text": [
      "(2, 0) (5, 10) "
     ]
    }
   ],
   "metadata": {}
  },
  {
   "cell_type": "markdown",
   "source": [
    "## 2. You are given two non-negative integers in the form of two non-empty linked lists. The digits are stored in reverse order, and each nodes contains a single digit. Add the two numbers and return the sum as a linked list.\n",
    "\n",
    "For example:\n",
    "\n",
    "**Input:** \n",
    "- $L_1$ = 1 -> 4 -> 5\n",
    "- $L_2$ = 4 -> 3 -> 2\n",
    "\n",
    "**Output:**\n",
    "- $L_3$ = 5 -> 7 -> 7\n",
    "\n",
    "Note that, the problem is equivalent to adding: 541 + 234  =  775"
   ],
   "metadata": {}
  },
  {
   "cell_type": "code",
   "execution_count": 4,
   "source": [
    "class Node:\n",
    "    def __init__(self, val = None):\n",
    "        self.val = val\n",
    "        self.next_node = 0\n",
    "    def set_next_node(self, next_node):\n",
    "        self.next_node = next_node\n",
    "\n",
    "class Singly_linked_List:\n",
    "    def __init__(self, head_node = None):\n",
    "        self.head_node = head_node\n",
    "    def list_traversed(self):\n",
    "        node = self.head_node\n",
    "        while node:\n",
    "            print(node.val, end = \" -> \")\n",
    "            node = node.next_node\n",
    "    def Insert_init(self, node):\n",
    "        node.set_next_node(self.head_node)\n",
    "        self.head_node = node\n",
    "    def Insert_end(self, node):\n",
    "        nodeA = self.head_node\n",
    "        while nodeA != None:\n",
    "            if (nodeA.next_node == None):\n",
    "                nodeA.set_next_node(node)\n",
    "                node.set_next_node(None)\n",
    "                break\n",
    "            nodeA = nodeA.next_node\n",
    "    def Size(self):\n",
    "        size = 0\n",
    "        node = self.head_node\n",
    "        while node.next_node != None: \n",
    "            size += 1\n",
    "            node = node.next_node\n",
    "        return size\n",
    "    def get_prev_node(self, node):\n",
    "        n = self.head_node\n",
    "        prev = None\n",
    "        while n.next_node != None:\n",
    "            prev = n\n",
    "            n = n.next_node\n",
    "            if (n == node):\n",
    "                return prev\n"
   ],
   "outputs": [],
   "metadata": {}
  },
  {
   "cell_type": "code",
   "execution_count": 5,
   "source": [
    "n1 = input(\"Ingrese el primer entero: \")\n",
    "n2 = input(\"Ingrese el segundo entero: \")\n",
    "\n",
    "def Convert_to_list(n):\n",
    "    list = []\n",
    "    for i in n:\n",
    "        list.append(i)\n",
    "    return list\n",
    "\n",
    "def Convert_to_SLL(n):\n",
    "    list = Convert_to_list(n)\n",
    "    SLL = Singly_linked_List(None)\n",
    "    for j in list:\n",
    "        SLL.Insert_init(Node(j))\n",
    "    return SLL\n",
    "\n",
    "S_List1 = Convert_to_SLL(n1)\n",
    "S_List2 = Convert_to_SLL(n2)\n",
    "\n",
    "\"\"\" Function to sum two Sinlgy_linked_Lists \"\"\"\n",
    "\n",
    "def Sum_SLL(SLL1, SLL2):\n",
    "    node1 = SLL1.head_node\n",
    "    node2 = SLL2.head_node\n",
    "    sum_node = Node(int(node1.val) + int(node2.val))\n",
    "    Final_SLL = Singly_linked_List(sum_node)\n",
    "    if (SLL1.Size() > SLL2.Size()):\n",
    "        while node1.next_node != None:\n",
    "            if (node2.next_node == None):\n",
    "                node2.set_next_node(Node(0))\n",
    "            node1 = node1.next_node\n",
    "            node2 = node2.next_node\n",
    "            sum_node.set_next_node(Node (int(node1.val) + int(node2.val)))\n",
    "            sum_node = sum_node.next_node\n",
    "    else:\n",
    "        while node2.next_node != None:\n",
    "            if (node1.next_node == None):\n",
    "                node1.set_next_node(Node(0))\n",
    "            node1 = node1.next_node\n",
    "            node2 = node2.next_node\n",
    "            sum_node.set_next_node(Node (int(node1.val) + int(node2.val)))\n",
    "            sum_node = sum_node.next_node\n",
    "    return Final_SLL\n",
    "\n",
    "Final_SLL = Sum_SLL(S_List1, S_List2)\n",
    "print (n1, \" + \", n2)\n",
    "Final_SLL.list_traversed()"
   ],
   "outputs": [
    {
     "output_type": "stream",
     "name": "stdout",
     "text": [
      "1000  +  200\n",
      "0 -> 0 -> 2 -> 1 -> "
     ]
    }
   ],
   "metadata": {}
  },
  {
   "cell_type": "markdown",
   "source": [
    "## 3. Given a linked list, detect if the list has a cycle. If a cycle is detected, return the position of the node (with respect to the head) where the cycle starts.\n",
    "\n",
    "For example:\n",
    "\n",
    "![](./cycle.png)\n",
    "\n",
    "**Input:**\n",
    "- Jan -> Feb -> March -> Dec\n",
    "\n",
    "**Output:**\n",
    "- True\n",
    "- 2"
   ],
   "metadata": {}
  },
  {
   "cell_type": "code",
   "execution_count": 6,
   "source": [
    "\"\"\" Example \"\"\"\n",
    "\n",
    "n1 = Node(\"Here\")\n",
    "n2 = Node(\"is\")\n",
    "n3 = Node(\"a\")\n",
    "n4 = Node (\"for\")\n",
    "n5 = Node(\"loop\")\n",
    "\n",
    "n1.set_next_node(n2)\n",
    "n2.set_next_node(n3)\n",
    "n3.set_next_node(n4)\n",
    "n4.set_next_node(n5)\n",
    "n5.set_next_node(n4)\n",
    "\n",
    "Slist = Singly_linked_List(n1)\n",
    "\n",
    "def Detect_Loop(SLL):\n",
    "    node = SLL.head_node\n",
    "    prev = None\n",
    "    Exist_for_loop = False\n",
    "    location = 0\n",
    "    while node.next_node != None:\n",
    "        node = node.next_node\n",
    "        prev = SLL.get_prev_node(node)\n",
    "        location += 1\n",
    "        if (node.next_node == prev):\n",
    "            Exist_for_loop = True\n",
    "            break\n",
    "    print (\"Is there a loop?: \", Exist_for_loop, \", where?: \", location)\n",
    "\n",
    "Detect_Loop(Slist)"
   ],
   "outputs": [
    {
     "output_type": "stream",
     "name": "stdout",
     "text": [
      "Is there a loop?:  True , where?:  4\n"
     ]
    }
   ],
   "metadata": {}
  },
  {
   "cell_type": "markdown",
   "source": [
    "## 4.  CLRS 10.1-5\n",
    "pg. 236\n",
    "\n",
    "**Implement as a Python class**"
   ],
   "metadata": {}
  },
  {
   "cell_type": "code",
   "execution_count": 7,
   "source": [
    "\"\"\" Implementación de Deque usando un array \"\"\"\n",
    "\n",
    "from numpy import array\n",
    "\n",
    "class Deque():\n",
    "\n",
    "    def __init__(self):\n",
    "        self.deque = array()\n",
    "    \n",
    "    def insert_at_init(self, element):\n",
    "        self.deque.reverse()\n",
    "        self.deque.append(element)\n",
    "        self.deque.reverse()\n",
    "    \n",
    "    def insert_at_end(self, element):\n",
    "        self.deque.append(element)\n",
    "\n",
    "    def remove_at_end(self):\n",
    "        self.deque.pop()\n",
    "    \n",
    "    def remove_at_init(self):\n",
    "        self.deque.pop(0)"
   ],
   "outputs": [],
   "metadata": {}
  },
  {
   "cell_type": "markdown",
   "source": [
    "## 5.  CLRS 10.1-6\n",
    "pg. 236\n",
    "\n",
    "**Implement as a Python class**"
   ],
   "metadata": {}
  },
  {
   "cell_type": "code",
   "execution_count": 8,
   "source": [
    "class Stack():\n",
    "    \n",
    "    def __init__(self, n):\n",
    "        self.item_count = 0\n",
    "        self.n = n\n",
    "        self.stack = self._create_stack(self.n)\n",
    "    def _create_stack(self, n):\n",
    "        return (n * ctypes.py_object)()\n",
    "    def push(self, item):\n",
    "        if (self.item_count == self.n):\n",
    "            raise ValueError(\"No more capacity\")\n",
    "        self.stack[self.item_count] = item\n",
    "        self.item_count += 1\n",
    "    def pop(self):\n",
    "        if (self.item_count == 0):\n",
    "            raise ValueError(\"No items to pop\")\n",
    "        item = self.stack[self.item_count - 1]\n",
    "        self.stack[self.item_count - 1] = ctypes.py_object\n",
    "        self.item_count -= 1\n",
    "        return item\n",
    "    def print_stack(self):\n",
    "        for i in range(0, self.item_count):\n",
    "            print (self.stack[i], end = \" \")\n",
    "    "
   ],
   "outputs": [],
   "metadata": {}
  },
  {
   "cell_type": "code",
   "execution_count": 9,
   "source": [
    "\"\"\"\" Implementación de una cola usando dos stacks \"\"\"\n",
    "\n",
    "class Queue():\n",
    "\n",
    "    def __init__(self, n):\n",
    "        self.n = n\n",
    "        self.queue = Stack(n)\n",
    "        self.item_count = 0\n",
    "    \n",
    "    #Complexity: O(1)\n",
    "    def enqueue(self, value):\n",
    "        self.queue.push(value)\n",
    "        self.item_count += 1\n",
    "    \n",
    "    #Complexity: O(n-1)\n",
    "    def dequeue(self):\n",
    "        new_stack = Stack(self.n)\n",
    "        for i in range(1, self.item_count):\n",
    "            new_stack.push(self.queue.stack[i])\n",
    "        item = self.queue.stack[0]\n",
    "        self.queue = new_stack\n",
    "        return item\n",
    "\n",
    "    def first(self):\n",
    "        return self.queue[0]\n",
    "\n",
    "    def full(self):\n",
    "        if (self.item_count == self.n):\n",
    "            return True\n",
    "        return False\n",
    "\n",
    "    def empty(self):\n",
    "        if (self.item_count == 0):\n",
    "            return True\n",
    "        return False\n",
    "\n",
    "    def size(self):\n",
    "        return self.item_count\n",
    "\n",
    "    def print_queue(self):\n",
    "        self.queue.print_stack()\n",
    "    "
   ],
   "outputs": [],
   "metadata": {}
  },
  {
   "cell_type": "code",
   "execution_count": 10,
   "source": [
    "C = Queue(3)\n",
    "C.enqueue(1)\n",
    "C.enqueue(2)\n",
    "C.enqueue(3)\n",
    "C.print_queue()"
   ],
   "outputs": [
    {
     "output_type": "stream",
     "name": "stdout",
     "text": [
      "1 2 3 "
     ]
    }
   ],
   "metadata": {}
  },
  {
   "cell_type": "code",
   "execution_count": 11,
   "source": [
    "C.dequeue()\n",
    "C.print_queue()"
   ],
   "outputs": [
    {
     "output_type": "stream",
     "name": "stdout",
     "text": [
      "2 3 "
     ]
    }
   ],
   "metadata": {}
  },
  {
   "cell_type": "markdown",
   "source": [
    "## 6.  CLRS 10.1-7\n",
    "pg. 236\n",
    "\n",
    "**Implement as a Python class**"
   ],
   "metadata": {}
  },
  {
   "cell_type": "code",
   "execution_count": 12,
   "source": [
    "class Queue(object):\n",
    "\n",
    "    def __init__(self, n):\n",
    "        self.item_count = 0\n",
    "        self.n = n\n",
    "        self.queue = self._create_queue(self.n)        \n",
    "    \n",
    "    def _create_queue(self, n):\n",
    "        return (n * ctypes.py_object)()\n",
    "\n",
    "    def enqueue(self, item):\n",
    "        if self.item_count == self.n:\n",
    "            raise ValueError(\"no more capacity\")\n",
    "        self.queue[self.item_count] = item\n",
    "        self.item_count += 1\n",
    "\n",
    "    def dequeue(self):\n",
    "        c = self.queue[0]\n",
    "        for i in range(1,self.item_count):\n",
    "            self.queue[i-1] = self.queue[i]\n",
    "        self.queue[self.item_count - 1] = ctypes.py_object\n",
    "        self.item_count -= 1\n",
    "        return c\n",
    "    \n",
    "    def first(self):\n",
    "        return self.queue[0]"
   ],
   "outputs": [],
   "metadata": {}
  },
  {
   "cell_type": "code",
   "execution_count": 13,
   "source": [
    "\"\"\" Implementación de un Stack usando dos colas \"\"\"\n",
    "\n",
    "class Stack():\n",
    "    \n",
    "    def __init__(self, n):\n",
    "        self.n = n\n",
    "        self.item_count = 0\n",
    "        self.stack = Queue(self.n)\n",
    "\n",
    "    #Complexity: O(1)\n",
    "    def push(self, value):\n",
    "        self.stack.enqueue(value)\n",
    "        self.item_count += 1\n",
    "\n",
    "    #Complexity: O(n-1)\n",
    "    def pop(self):\n",
    "        new_queue = Queue(self.n)\n",
    "        for i in range(0, self.item_count - 1):\n",
    "            new_queue.enqueue(self.stack.queue[i])\n",
    "        item = self.stack.queue[self.item_count - 1]\n",
    "        self.item_count -= 1\n",
    "        self.stack = new_queue\n",
    "        return item\n",
    "\n",
    "    def print_Stack(self):\n",
    "        for i in range(0, self.item_count):\n",
    "            print (self.stack.queue[i], end = \" \")\n",
    "        "
   ],
   "outputs": [],
   "metadata": {}
  },
  {
   "cell_type": "code",
   "execution_count": 14,
   "source": [
    "S = Stack(4)\n",
    "S.push(1)\n",
    "S.push(2)\n",
    "S.push(3)\n",
    "S.print_Stack()"
   ],
   "outputs": [
    {
     "output_type": "stream",
     "name": "stdout",
     "text": [
      "1 2 3 "
     ]
    }
   ],
   "metadata": {}
  },
  {
   "cell_type": "code",
   "execution_count": 15,
   "source": [
    "S.pop()\n",
    "S.print_Stack()"
   ],
   "outputs": [
    {
     "output_type": "stream",
     "name": "stdout",
     "text": [
      "1 2 "
     ]
    }
   ],
   "metadata": {}
  }
 ],
 "metadata": {
  "kernelspec": {
   "name": "python3",
   "display_name": "Python 3.8.8 64-bit ('base': conda)"
  },
  "language_info": {
   "codemirror_mode": {
    "name": "ipython",
    "version": 3
   },
   "file_extension": ".py",
   "mimetype": "text/x-python",
   "name": "python",
   "nbconvert_exporter": "python",
   "pygments_lexer": "ipython3",
   "version": "3.8.8"
  },
  "interpreter": {
   "hash": "dca0ade3e726a953b501b15e8e990130d2b7799f14cfd9f4271676035ebe5511"
  }
 },
 "nbformat": 4,
 "nbformat_minor": 5
}