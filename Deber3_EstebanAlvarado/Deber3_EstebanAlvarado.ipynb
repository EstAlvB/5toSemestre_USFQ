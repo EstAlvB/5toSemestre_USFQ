{
 "cells": [
  {
   "cell_type": "markdown",
   "id": "cae87a99",
   "metadata": {},
   "source": [
    "## Verdadero o falso con argumentos"
   ]
  },
  {
   "cell_type": "markdown",
   "id": "dd24dc62",
   "metadata": {},
   "source": [
    "### 1.  Una función recursiva resuelve un problema resolviendo una parte mas pequeña del mismo problema "
   ]
  },
  {
   "cell_type": "markdown",
   "metadata": {},
   "source": [
    "### VERDADERO:\n",
    "\n",
    "Las funciones recursivas son funciones que se llaman a sí mismas durante su ejecución. Estas funciones se suelen utilizar para dividir un problema en varios sub-problemas (problemas más pequeños) que son más fáciles de resolver, para así poder resolver el problema principal.\n"
   ]
  },
  {
   "cell_type": "markdown",
   "id": "691524e4",
   "metadata": {},
   "source": [
    "### 2.  Los modelos computacionales nos ayudan a analizar la complejidad de los algoritmos, ya que nos proveen de las especificaciones de la computadora en la cual estos se ejecutarían idealmente"
   ]
  },
  {
   "cell_type": "markdown",
   "metadata": {},
   "source": [
    "### FALSO:\n",
    "\n",
    "Los modelos computacionales nos especifican qué operaciones podemos realizar en un algoritmo. También nos dan a conocer el costo (en memoria o de tiempo) de un algoritmo. Es por esto último que es cierto que los modelos computacionales nos ayudan a analizar la complejidad de los algoritmos, pero NO es mediante las especificaciones de una computadora en las que estos se ejecutarían idealmente."
   ]
  },
  {
   "cell_type": "markdown",
   "id": "e5f602d1",
   "metadata": {},
   "source": [
    "### 3.  La búsqueda en un árbol binario de búsqueda es siempre mas rápida que la búsqueda lineal en un arreglo"
   ]
  },
  {
   "cell_type": "markdown",
   "metadata": {},
   "source": [
    "### FALSO:\n",
    "\n",
    "Asumiendo que el árbol esté bien balanceado, la complejidad de la búsqueda en un árbol binario siempre será más rápida que una búsqueda lineal. Sin embargo, si el árbol no está bien balanceado, y si todos los nodos se ubican a un solo lado del árbol, la búsqueda binaria podría tener la misma complejidad que una búsqueda lineal. "
   ]
  },
  {
   "cell_type": "markdown",
   "id": "a1fdae73",
   "metadata": {},
   "source": [
    "### 4. Un algoritmo de complejidad O(nlog(n)) es mas rápido que un algoritmo de complejidad O(n) "
   ]
  },
  {
   "cell_type": "markdown",
   "metadata": {},
   "source": [
    "### FALSO:\n",
    "\n",
    "> $nlog(n) < n$ ?\n",
    "\n",
    "Si tomamos como un peor caso $n = 100$, entonces:\n",
    "\n",
    "> $100 \\times log(100) < 100$\n",
    "\n",
    "> $200 < 100$ Esto es falso\n"
   ]
  },
  {
   "cell_type": "markdown",
   "id": "e296f8f9",
   "metadata": {},
   "source": [
    "### 5.  Un algoritmo de complejidad Ω(nlog(n)) es mas rápido que un algoritmo de complejidad Ω(n)"
   ]
  },
  {
   "cell_type": "markdown",
   "metadata": {},
   "source": [
    "### VERDADERO:\n",
    "\n",
    "> $nlog(n) < n$ ?\n",
    "\n",
    "El mejor caso para ambas funciones sería que $n = 1$:\n",
    "\n",
    "> $log(1) < 1$\n",
    "\n",
    "> $0 < 1$ Esto resulta verdadero"
   ]
  },
  {
   "cell_type": "markdown",
   "id": "d1446925",
   "metadata": {},
   "source": [
    "## Problemas de programación\n",
    "#### Todo el código debe ser en Python. Si se requiere escribir funciones que hagan búsqueda o ordenamiento (search, sort), programe las funciones usando los conceptos aprendidos en clase. No use las funciones que Python provee para hacer esto. "
   ]
  },
  {
   "cell_type": "markdown",
   "id": "4fb17ce9",
   "metadata": {},
   "source": [
    "### 6. Dada una lista enlazada que represente un número. Por ejemplo, 123 es representado por la lista 1->2->3 si la lista es simple o con doble enlace si es doble. Escriba un programa que haga lo siguiente:\n",
    "\n",
    "1. Reciba dos números A y B como input\n",
    "\n",
    "2. Transforme estos números a listas enlazadas como la definida arriba\n",
    "\n",
    "3. Implemente la resta de los números descritos por esas listas enlazadas. El resultado (A-B) debe ser almacenado en una lista enlazada.\n",
    "\n",
    "4. Imprima el resultado concatenando el valor de los nodos de la lista enlazada resultante\n",
    "\n",
    "Nota: asuma que el número A es mayor que B"
   ]
  },
  {
   "cell_type": "code",
   "execution_count": 1,
   "id": "9bc5dc62",
   "metadata": {},
   "outputs": [],
   "source": [
    "class Node:\n",
    "    def __init__(self, val=None):\n",
    "        self.val = val\n",
    "        self.next_node = None\n",
    "    \n",
    "    def set_next_node(self, next_node):\n",
    "        self.next_node = next_node\n",
    "        \n",
    "class Singly_linked_list:\n",
    "    def __init__(self, head_node=None):\n",
    "        self.head_node = head_node\n",
    "    def Insert_end(self, node):\n",
    "        nodeA = self.head_node\n",
    "        if (nodeA == None):\n",
    "            nodeA = node\n",
    "            self.head_node = node\n",
    "            node.set_next_node(None)\n",
    "        else:\n",
    "            while nodeA != None:\n",
    "                if (nodeA.next_node == None):\n",
    "                    nodeA.set_next_node(node)\n",
    "                    node.set_next_node(None)\n",
    "                    break\n",
    "                nodeA = nodeA.next_node\n",
    "    def list_traversed(self):\n",
    "        node = self.head_node\n",
    "        while node:\n",
    "            print(node.val, end = \" -> \")\n",
    "            node = node.next_node"
   ]
  },
  {
   "cell_type": "code",
   "execution_count": 7,
   "metadata": {},
   "outputs": [
    {
     "name": "stdout",
     "output_type": "stream",
     "text": [
      "1 -> "
     ]
    }
   ],
   "source": [
    "A = input()\n",
    "B = input()\n",
    "\n",
    "def Convert_to_SLL(n):\n",
    "    Slist = Singly_linked_list(None)\n",
    "    for i in n:\n",
    "        Slist.Insert_end(Node(int(i)))\n",
    "    return Slist\n",
    "\n",
    "SlistA = Convert_to_SLL(A)\n",
    "SlistB = Convert_to_SLL(B)\n",
    "\n",
    "def RestSlists(SlistA, SlistB):\n",
    "    nodeA = SlistA.head_node\n",
    "    nodeB = SlistB.head_node\n",
    "    nodeC = Node(nodeA.val - nodeB.val)\n",
    "    SlistC = Singly_linked_list(nodeC)\n",
    "    while nodeA != None:\n",
    "        if (nodeB.next_node == None):\n",
    "            nodeB.set_next_node(Node(0))\n",
    "        nodeA = nodeA.next_node\n",
    "        nodeB = nodeB.next_node\n",
    "        #SlistC.Insert_end(Node(nodeA.val - nodeB.val))\n",
    "    return SlistC\n",
    "\n",
    "SList = RestSlists(SlistA, SlistB)\n",
    "SList.list_traversed()\n"
   ]
  },
  {
   "cell_type": "markdown",
   "id": "ad6c65a4",
   "metadata": {},
   "source": [
    "### 7.  Cuando introducimos el concepto de pilas (stacks), usamos como ejemplos una pila de platos. Siguiendo con el ejemplo, una pila de platos con muchos platos se puede caer. Para evitar esto, se puede empezar una nueva pila.\n",
    "\n",
    "Implemente una clase de Python que defina un arreglo de stacks. La idea de tener este arreglo es que cuando un stack alcance su capacidad máxima, un nuevo stack empieza en el mismo arreglo. Las operación pop() debe retornar el mismo valor que lo haría si estuviéramos usando un stack simple. \n",
    "\n",
    "Nota: Debe definir los elementos de la clase: el arreglo de stacks, la capacidad del arreglo (# de stacks en el arreglo), la capacidad de cada stack (# de elementos que puede tener el stack). \n",
    "\n",
    "Hint: Cuando ingrese elementos (push), los elementos van al stack que este activo (el stack que recibe y retira elementos). Debe manejar las condiciones para cambiar el stack activo (cuando un push() deja al stack sin elementos, o cuando un pop() llena el stack)."
   ]
  },
  {
   "cell_type": "code",
   "execution_count": 10,
   "id": "b357ff4f",
   "metadata": {},
   "outputs": [],
   "source": [
    "import ctypes\n",
    "\n",
    "class Stack():\n",
    "    \n",
    "    def __init__(self, n):\n",
    "        self.item_count = 0\n",
    "        self.n = n\n",
    "        self.stack = self._create_stack(self.n)\n",
    "    def _create_stack(self, n):\n",
    "        return (n * ctypes.py_object)()\n",
    "    def push(self, item):\n",
    "        if (self.item_count == self.n):\n",
    "            raise ValueError(\"No more capacity\")\n",
    "        self.stack[self.item_count] = item\n",
    "        self.item_count += 1\n",
    "    def pop(self):\n",
    "        if (self.item_count == 0):\n",
    "            raise ValueError(\"No items to pop\")\n",
    "        item = self.stack[self.item_count - 1]\n",
    "        self.stack[self.item_count - 1] = ctypes.py_object\n",
    "        self.item_count -= 1\n",
    "        return item\n",
    "    def print_stack(self):\n",
    "        for i in range(0, self.item_count):\n",
    "            print (self.stack[i], end = \" \")\n"
   ]
  },
  {
   "cell_type": "code",
   "execution_count": 11,
   "metadata": {},
   "outputs": [],
   "source": [
    "class ArrayOfStacks():\n",
    "\n",
    "    def __init__(self, tamArray, tamStack):\n",
    "        self.array = self._createStacks(tamStack)\n",
    "        self.tamArray = tamArray\n",
    "    def _createStacks(self, tamStack):\n",
    "        array = [Stack(tamStack) for _ in range(0, tamStack)]\n",
    "        return array\n",
    "    def isActive(stack):\n",
    "        if (stack.item_count < stack.n and stack.item_count > 0):\n",
    "            return True\n",
    "        return False\n",
    "    def Push(self, value):\n",
    "        for stack in self.array:\n",
    "            if (self.isActive(stack) == True):\n",
    "                stack.push(value)\n",
    "            else:\n",
    "                continue\n",
    "    def Pop(self):\n",
    "        for stack in self.array:\n",
    "            if (self.isActive(stack) == True):\n",
    "                stack.pop()\n",
    "            else:\n",
    "                continue"
   ]
  },
  {
   "cell_type": "markdown",
   "id": "b3d44802",
   "metadata": {},
   "source": [
    "### 8. Dada una cola con prioridad (PriorityQueue) que contiene elementos (k,v) donde k define la prioridad y v define el valor. Recuerde que los valores con menor k tienen mayor prioridad, es decir si tenemos dos elementos (k1, v1) y (k2, v2), v2 tiene preferencia para salir de la cola antes que v1 si k2< k1. Definimos algunas de las operaciones como siguen:"
   ]
  },
  {
   "cell_type": "code",
   "execution_count": 44,
   "metadata": {},
   "outputs": [],
   "source": [
    "class PriorityQueue(object):\n",
    "\n",
    "    def __init__(self, n):\n",
    "        self.item_count = 0\n",
    "        self.n = n\n",
    "        self.queue = []\n",
    "\n",
    "    def dequeue(self):\n",
    "        c = self.queue[0]\n",
    "        for i in range(1,self.item_count):\n",
    "            self.queue[i-1] = self.queue[i]\n",
    "            self.queue[self.item_count - 1] = None\n",
    "            self.item_count -= 1\n",
    "        return c\n",
    "    \n",
    "    def PriorityQueue_traversed(self):\n",
    "        for i in range (0, self.item_count):\n",
    "            print (self.queue[i], end = \" \")\n"
   ]
  },
  {
   "cell_type": "markdown",
   "metadata": {},
   "source": [
    "\n",
    "\n",
    "### Implemente los métodos enqueue y decreaseKey, tal que ambos métodos tengan complejidad O(log(n)), sin utilizar funciones nativas de Python. Por ejemplo, si necesita hacer una búsqueda, no use la función de Python que implementa esto, programe la función usando for o while loops."
   ]
  },
  {
   "cell_type": "code",
   "execution_count": 45,
   "id": "3d659ac3",
   "metadata": {},
   "outputs": [
    {
     "name": "stdout",
     "output_type": "stream",
     "text": [
      "(0, 10) (2, 3) (3, 12) "
     ]
    }
   ],
   "source": [
    "    \n",
    "    def insertion_sort (self):\n",
    "        for j in range (1, len(self.queue)):\n",
    "            clave = self.queue[j][0]\n",
    "            temp = self.queue[j]\n",
    "            i = j - 1\n",
    "            while i >= 0 and self.queue[i][0] > clave:\n",
    "                self.queue[i + 1] = self.queue[i]\n",
    "                i = i - 1\n",
    "            self.queue[i + 1] = temp\n",
    "            \n",
    "    def enqueue(self, k, v):\n",
    "        if (self.item_count == self.n):\n",
    "            raise (\"No more space\")\n",
    "        self.queue.append((k, v))\n",
    "        self.item_count += 1\n",
    "        self.insertion_sort()\n",
    "\n",
    "    def decreaseKey (self, k, v):\n",
    "        for i in range(0, self.item_count):\n",
    "            if (self.queue[i][1] == v):\n",
    "                if (self.queue[i][0] < k):\n",
    "                    raise ValueError(\"new value of k must be smaller\")\n",
    "                self.queue[i] = (k, v)\n",
    "\n",
    "A = PriorityQueue(4)\n",
    "A.enqueue(1, 10)\n",
    "A.enqueue(2, 3)\n",
    "A.enqueue(3, 12)\n",
    "A.decreaseKey(0, 10)\n",
    "A.PriorityQueue_traversed()\n"
   ]
  },
  {
   "cell_type": "markdown",
   "id": "3591936d",
   "metadata": {},
   "source": [
    "### 9. Tenemos un árbol binario (binary tree), definimos a un nodo X como rojo, si todos los nodos en el recorrido de la raiz al nodo X tienen un valor que es menor o igual a X. Por ejemplo, en el ejemplo de abajo:\n",
    "\n",
    "![](./binary_tree.png)\n",
    "\n",
    "El recorrido hacia el nodo 3 de la izquierda es 3 → 1 → 3, como todos los valores en este recorrido son menores o iguales a 3 (3=3 y 1<3), el nodo es rojo. Similarmente, en el sub-árbol de la derecha, los nodos 4 y 5 también son rojos. Escriba una función en Python que cuente el numero total de nodos rojos. El input de esta función es la raíz del árbol binario.\n",
    "\n",
    " "
   ]
  },
  {
   "cell_type": "code",
   "execution_count": 2,
   "id": "7683148e",
   "metadata": {},
   "outputs": [],
   "source": [
    "class TreeNode:\n",
    "    def __init__(self, val=0, left=None, right=None):\n",
    "        self.val = val\n",
    "        self.left = left\n",
    "        self.right = right\n",
    "        \n",
    "def preorderTraversalrec(root):\n",
    "    if root is None:\n",
    "        return []\n",
    "    out = [root.val]\n",
    "    out += preorderTraversalrec(root.left)\n",
    "    out += preorderTraversalrec(root.right)\n",
    "    return out\n",
    "\n",
    "def isSmaller(list, pos):\n",
    "    i = 0\n",
    "    while i <= pos:\n",
    "        if (list[i] <= list[pos]):\n",
    "            result = True\n",
    "        else:\n",
    "            result = False\n",
    "            break\n",
    "        i += 1\n",
    "    return result \n",
    "        \n",
    "def Count_Red_Nodes(root):\n",
    "    total = 0\n",
    "    tree = preorderTraversalrec(root)\n",
    "    for i in range (0, len(tree)):\n",
    "        if isSmaller(tree, i) == True:\n",
    "            total += 1\n",
    "    return total"
   ]
  },
  {
   "cell_type": "code",
   "execution_count": 4,
   "metadata": {},
   "outputs": [
    {
     "name": "stdout",
     "output_type": "stream",
     "text": [
      "4\n"
     ]
    }
   ],
   "source": [
    "#Lo siguiente representa el mismo árbol que se da como ejemplo al inicio del ejercicio\n",
    "\n",
    "d = TreeNode (3)\n",
    "e = TreeNode (1)\n",
    "f = TreeNode (5)\n",
    "c = TreeNode (4, left=e, right=f)\n",
    "b = TreeNode (1, left=d)\n",
    "a = TreeNode (3, left=b, right=c)\n",
    "\n",
    "print (Count_Red_Nodes(a))"
   ]
  }
 ],
 "metadata": {
  "interpreter": {
   "hash": "40d3a090f54c6569ab1632332b64b2c03c39dcf918b08424e98f38b5ae0af88f"
  },
  "kernelspec": {
   "display_name": "Python 3.8.8 64-bit ('base': conda)",
   "name": "python3"
  },
  "language_info": {
   "codemirror_mode": {
    "name": "ipython",
    "version": 3
   },
   "file_extension": ".py",
   "mimetype": "text/x-python",
   "name": "python",
   "nbconvert_exporter": "python",
   "pygments_lexer": "ipython3",
   "version": "3.8.8"
  }
 },
 "nbformat": 4,
 "nbformat_minor": 5
}
