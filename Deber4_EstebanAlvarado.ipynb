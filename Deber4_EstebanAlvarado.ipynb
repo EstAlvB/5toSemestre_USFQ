{
 "cells": [
  {
   "cell_type": "markdown",
   "id": "8d0a8bef",
   "metadata": {},
   "source": [
    "# Deber #4"
   ]
  },
  {
   "cell_type": "markdown",
   "id": "1195d5eb",
   "metadata": {},
   "source": [
    "### Esteban Alvarado 00215138"
   ]
  },
  {
   "cell_type": "markdown",
   "id": "35509289",
   "metadata": {},
   "source": [
    "#### 1. [10 pts] Given a list of list of dimension m x n (2-D matrix) representing a map of '1's (land) and '0's (water), write a Python function that returns the number of islands and takes the matrix as input. \n",
    "\n",
    "- An island is surrounded by water and is formed by connecting adjacent lands horizontally or vertically.\\\n",
    "- Assume all four edges of the matrix are all surrounded by water.\n",
    "- Write an implementation for BFS and one for DFS\n",
    "\n",
    "\n",
    "Example:\n",
    "\n",
    "```\n",
    "Input: map = [\n",
    "  [\"1\",\"1\",\"0\",\"0\",\"0\"],\n",
    "  [\"1\",\"1\",\"0\",\"0\",\"0\"],\n",
    "  [\"0\",\"0\",\"1\",\"0\",\"0\"],\n",
    "  [\"0\",\"0\",\"0\",\"1\",\"1\"]\n",
    "]\n",
    "Output: 3\n",
    "```\n"
   ]
  },
  {
   "cell_type": "code",
   "execution_count": 56,
   "id": "bc285b21",
   "metadata": {},
   "outputs": [],
   "source": [
    "def BFS(vortex, visited):\n",
    "    queue = [vortex]\n",
    "    while (len(queue) > 0):\n",
    "        coord = queue[0]\n",
    "        queue.pop(0)\n",
    "        if coord in visited:\n",
    "            visited.remove(coord)\n",
    "        directions = [(coord[0]+1, coord[1]), (coord[0]-1, coord[1]), (coord[0], coord[1]+1), (coord[0], coord[1]-1)]\n",
    "        for dir in directions:\n",
    "            if dir in visited:\n",
    "                queue.append(dir)\n",
    "\n",
    "def DFS(map, x, y):\n",
    "    if y < 0 or x < 0 or y >= len(map) or x >= len(map[0]) or map[y][x] != 1:\n",
    "        return\n",
    "    map[y][x] = 0\n",
    "    DFS(map, y+1, x)\n",
    "    DFS(map, y-1, x)\n",
    "    DFS(map, y, x+1)\n",
    "    DFS(map, y, x-1)\n",
    "\n",
    "def Num_of_Islands_BFS(map):\n",
    "    islands = 0\n",
    "    visited = []\n",
    "    for j in range(len(map)):\n",
    "        for i in range(len(map[j])):\n",
    "            if (map[j][i] == 1):\n",
    "                visited.append((j, i))\n",
    "    while (len(visited) > 0):\n",
    "        BFS(visited[0], visited)\n",
    "        islands += 1\n",
    "    return islands\n",
    "\n",
    "def Num_of_Islands_DFS(map):\n",
    "    islands = 0\n",
    "    for y in range(len(map)):\n",
    "        for x in range(len(map[y])):\n",
    "            if (map[y][x] == 1):\n",
    "                DFS(map, x, y)\n",
    "                islands += 1\n",
    "    return islands"
   ]
  },
  {
   "cell_type": "code",
   "execution_count": 57,
   "id": "12dfe897",
   "metadata": {},
   "outputs": [
    {
     "name": "stdout",
     "output_type": "stream",
     "text": [
      "3\n",
      "3\n"
     ]
    }
   ],
   "source": [
    "map = [[1,1,0,0,0],[1,1,0,0,0],[0,0,1,0,0],[0,0,0,1,1]]\n",
    "print(Num_of_Islands_BFS(map))\n",
    "print(Num_of_Islands_DFS(map))"
   ]
  },
  {
   "cell_type": "markdown",
   "id": "cdeb67ec",
   "metadata": {},
   "source": [
    "#### 2. [5 pts] A perfect square is an integer that is the square of an integer; in other words, it is the product of some integer with itself. For example, 1, 4, 9, and 16 are perfect squares, and 2 and 5 are not perfect squares\n",
    "\n",
    "Use BFS and write a Python function that gets a number `n` as input and return the least number of perfect square numbers that sum to `n`\n",
    "\n",
    "Example 1:\n",
    "\n",
    "```\n",
    "Input: n = 12\n",
    "Output: 3\n",
    "Explanation: 12 = 4 + 4 + 4.\n",
    "```\n",
    "\n",
    "Example 2:\n",
    "```\n",
    "Input: n = 13\n",
    "Output: 2\n",
    "Explanation: 13 = 4 + 9.\n",
    "```\n",
    "\n",
    "\n"
   ]
  },
  {
   "cell_type": "code",
   "execution_count": 58,
   "id": "d1b9bedd",
   "metadata": {},
   "outputs": [],
   "source": [
    "def bfs(x, n):\n",
    "    queue = [[x]]\n",
    "    while len(queue) > 0:\n",
    "        c = queue[0]\n",
    "        queue.pop(0)\n",
    "        if (sum(c) == n):\n",
    "            return c\n",
    "        for i in range(1, n+1):\n",
    "            if i**2 > n:\n",
    "                break\n",
    "            y = i**2\n",
    "            queue.append(c+[y])\n",
    "\n",
    "def Num_of_PerfectSquareNum(n):\n",
    "    possible_paths = []\n",
    "    for i in range(1, n+1):\n",
    "        if i**2 > n:\n",
    "            break\n",
    "        x = i**2\n",
    "        possible_paths.append(bfs(x, n))\n",
    "    length = []\n",
    "    for path in possible_paths:\n",
    "        length.append(len(path))\n",
    "    return min(length)"
   ]
  },
  {
   "cell_type": "code",
   "execution_count": 59,
   "id": "80410e2c",
   "metadata": {},
   "outputs": [
    {
     "name": "stdout",
     "output_type": "stream",
     "text": [
      "2\n"
     ]
    }
   ],
   "source": [
    "input = 13\n",
    "print(Num_of_PerfectSquareNum(input))"
   ]
  }
 ],
 "metadata": {
  "kernelspec": {
   "display_name": "Python 3",
   "language": "python",
   "name": "python3"
  },
  "language_info": {
   "codemirror_mode": {
    "name": "ipython",
    "version": 3
   },
   "file_extension": ".py",
   "mimetype": "text/x-python",
   "name": "python",
   "nbconvert_exporter": "python",
   "pygments_lexer": "ipython3",
   "version": "3.8.8"
  }
 },
 "nbformat": 4,
 "nbformat_minor": 5
}
